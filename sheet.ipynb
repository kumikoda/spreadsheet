{
 "cells": [
  {
   "cell_type": "markdown",
   "metadata": {},
   "source": [
    "Task: implement a spreadsheet engine that had an interface with two methods set_cell and get_cell"
   ]
  },
  {
   "cell_type": "code",
   "execution_count": 17,
   "metadata": {},
   "outputs": [],
   "source": [
    "# version 1: resolve on read\n",
    "class Sheet:\n",
    "    def __init__(self):\n",
    "        # key -> value OR [key]\n",
    "        self.cells = {}\n",
    "\n",
    "    # resolve on get\n",
    "    def get_cell(self, key):\n",
    "        # if cell is not in the dictionary, return 0\n",
    "        if key not in self.cells:\n",
    "            return 0\n",
    "        # else if cell is a list of cells, return the sum of the cells\n",
    "        elif type(self.cells[key]) == list:\n",
    "            return sum([self.get_cell(k) for k in self.cells[key]])\n",
    "        # else return the value of the cell\n",
    "        else:\n",
    "            return self.cells[key]\n",
    "\n",
    "    # O(1) set\n",
    "    def set_cell(self, key, value):\n",
    "        self.cells[key] = value"
   ]
  },
  {
   "cell_type": "code",
   "execution_count": 180,
   "metadata": {},
   "outputs": [],
   "source": [
    "# version 2: resolve on write\n",
    "class Sheet2:\n",
    "    def __init__(self):        \n",
    "        # which cells does this cell depend on?\n",
    "        self.deps = {} # key -> [key]\n",
    "        \n",
    "        # which cells depend on this cell?\n",
    "        self.index = {} # key -> {key}\n",
    "\n",
    "        # what is the value of this cell?\n",
    "        self.values = {} # key -> value\n",
    "        \n",
    "    # O(1) get\n",
    "    def get_cell(self, key):\n",
    "        if key not in self.values:\n",
    "            return 0\n",
    "        else:\n",
    "            return self.values[key]\n",
    "    \n",
    "    # resolve on set\n",
    "    def set_cell(self, key, value):\n",
    "        # clear the index\n",
    "        if key in self.deps:\n",
    "            for v in self.deps[key]:\n",
    "                self.index[v].remove(key)\n",
    "        # clear the deps \n",
    "        if key in self.deps:\n",
    "            del self.deps[key] \n",
    "        # clear the value\n",
    "        if key in self.values:\n",
    "            del self.values[key]\n",
    "        \n",
    "        # if value is a list of cells...  \n",
    "        if type(value) == list:\n",
    "            # set them as deps for this cell\n",
    "            self.deps[key] = value\n",
    "            # add this cell's key to the index for each dep cell\n",
    "            for v in value:\n",
    "                if v in self.index:\n",
    "                    self.index[v].add(key)\n",
    "                else:\n",
    "                    self.index[v] = {key}\n",
    "            # resolve the value\n",
    "            self._resolve(key)\n",
    "        # else just set the value \n",
    "        else:\n",
    "            self.values[key] = value\n",
    "            # if this cell is a dep for other cells, resolve them\n",
    "            if key in self.index:\n",
    "                for v in self.index[key]:\n",
    "                    self._resolve(v)\n",
    "\n",
    "    # resolve the value of a cell and all cells that depend on it\n",
    "    def _resolve(self, key): \n",
    "        self.values[key] = sum([self.values[k] for k in self.deps[key]])\n",
    "        if key in self.index:\n",
    "            for v in self.index[key]:\n",
    "                self._resolve(v)\n",
    "        "
   ]
  },
  {
   "cell_type": "code",
   "execution_count": 181,
   "metadata": {},
   "outputs": [],
   "source": [
    "sheet = Sheet2()\n",
    "\n",
    "# A cells value should update if its dependents change\n",
    "sheet.set_cell(\"A1\", 1)\n",
    "sheet.set_cell(\"A2\", 2)\n",
    "sheet.set_cell(\"A3\", [\"A1\", \"A2\"])\n",
    "sheet.set_cell(\"A1\", 3)\n",
    "assert sheet.get_cell(\"A3\") == 5, \"A3 should be 5\"\n",
    "\n",
    "# A cell should be able to depend on another directly and indirectly\n",
    "sheet.set_cell(\"A4\", [\"A3\", \"A1\"]);\n",
    "assert sheet.get_cell(\"A4\") == 8, \"A4 should be 8\"\n",
    "\n",
    "# A cell should be able to depend on another cell multiple times\n",
    "sheet.set_cell(\"A5\", [\"A1\", \"A1\"]);\n",
    "assert sheet.get_cell(\"A5\") == 6, \"A5 should be 6\"\n",
    "\n",
    "# A cell should be able to only depend on other non-leaf cells\n",
    "sheet.set_cell(\"A6\", [\"A5\", \"A4\"]);\n",
    "assert sheet.get_cell(\"A6\") == 14, \"A6 should be 14\"\n",
    "\n",
    "# Updating a cell should update the values for all cells that depend on it, directly and indirectly\n",
    "sheet.set_cell(\"A1\", 1);\n",
    "assert sheet.get_cell(\"A3\") == 3, \"A3 should be 3\"\n",
    "assert sheet.get_cell(\"A4\") == 4, \"A4 should be 4\"\n",
    "assert sheet.get_cell(\"A5\") == 2, \"A5 should be 2\"\n",
    "assert sheet.get_cell(\"A6\") == 6, f\"A6 should be 6 but got {sheet.get_cell('A6')}\"\n",
    "\n",
    "# A cell should be able to depend on more than 2 cells\n",
    "sheet.set_cell(\"A7\", [\"A1\", \"A1\", \"A2\"]);\n",
    "assert sheet.get_cell(\"A7\") == 4, \"A7 should be 1 + 1 + 2\"\n",
    "sheet.set_cell(\"A2\", 3);\n",
    "assert sheet.get_cell(\"A7\") == 5, \"A7 should be 1 + 1 + 3\""
   ]
  },
  {
   "cell_type": "code",
   "execution_count": 182,
   "metadata": {},
   "outputs": [
    {
     "data": {
      "text/plain": [
       "{'A3': ['A1', 'A2'],\n",
       " 'A4': ['A3', 'A1'],\n",
       " 'A5': ['A1', 'A1'],\n",
       " 'A6': ['A5', 'A4'],\n",
       " 'A7': ['A1', 'A1', 'A2']}"
      ]
     },
     "execution_count": 182,
     "metadata": {},
     "output_type": "execute_result"
    }
   ],
   "source": [
    "sheet.deps"
   ]
  },
  {
   "cell_type": "code",
   "execution_count": 183,
   "metadata": {},
   "outputs": [
    {
     "data": {
      "text/plain": [
       "{'A1': {'A3', 'A4', 'A5', 'A7'},\n",
       " 'A2': {'A3', 'A7'},\n",
       " 'A3': {'A4'},\n",
       " 'A5': {'A6'},\n",
       " 'A4': {'A6'}}"
      ]
     },
     "execution_count": 183,
     "metadata": {},
     "output_type": "execute_result"
    }
   ],
   "source": [
    "sheet.index"
   ]
  },
  {
   "cell_type": "code",
   "execution_count": 184,
   "metadata": {},
   "outputs": [
    {
     "data": {
      "text/plain": [
       "{'A3': 4, 'A4': 5, 'A5': 2, 'A6': 7, 'A1': 1, 'A7': 5, 'A2': 3}"
      ]
     },
     "execution_count": 184,
     "metadata": {},
     "output_type": "execute_result"
    }
   ],
   "source": [
    "sheet.values"
   ]
  }
 ],
 "metadata": {
  "kernelspec": {
   "display_name": "Python 3",
   "language": "python",
   "name": "python3"
  },
  "language_info": {
   "codemirror_mode": {
    "name": "ipython",
    "version": 3
   },
   "file_extension": ".py",
   "mimetype": "text/x-python",
   "name": "python",
   "nbconvert_exporter": "python",
   "pygments_lexer": "ipython3",
   "version": "3.11.4"
  }
 },
 "nbformat": 4,
 "nbformat_minor": 2
}
